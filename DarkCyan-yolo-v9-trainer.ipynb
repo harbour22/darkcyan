{
  "cells": [
    {
      "cell_type": "markdown",
      "metadata": {
        "id": "view-in-github",
        "colab_type": "text"
      },
      "source": [
        "<a href=\"https://colab.research.google.com/github/harbour22/darkcyan/blob/main/DarkCyan-yolo-v9-trainer.ipynb\" target=\"_parent\"><img src=\"https://colab.research.google.com/assets/colab-badge.svg\" alt=\"Open In Colab\"/></a>"
      ]
    },
    {
      "cell_type": "code",
      "execution_count": 1,
      "metadata": {
        "id": "qXvGrJ2QOYE7"
      },
      "outputs": [],
      "source": [
        "## General Imports\n",
        "from google.colab import drive # type: ignore\n",
        "from IPython.display import clear_output # type: ignore\n",
        "from pathlib import Path\n",
        "import json\n",
        "import shutil\n",
        "import os\n",
        "import time\n",
        "from datetime import datetime\n"
      ]
    },
    {
      "cell_type": "code",
      "execution_count": 2,
      "metadata": {
        "id": "gEmIBZL4NHYI",
        "colab": {
          "base_uri": "https://localhost:8080/"
        },
        "outputId": "964857e0-445d-41af-9316-6c8a8c71a571"
      },
      "outputs": [
        {
          "output_type": "stream",
          "name": "stdout",
          "text": [
            "Collecting git+https://github.com/harbour22/darkcyan.git\n",
            "  Cloning https://github.com/harbour22/darkcyan.git to /tmp/pip-req-build-_03yq94b\n",
            "  Running command git clone --filter=blob:none --quiet https://github.com/harbour22/darkcyan.git /tmp/pip-req-build-_03yq94b\n",
            "  Resolved https://github.com/harbour22/darkcyan.git to commit 11a08877e65aeb698df1cac6db7bcdc2eee4b1ed\n",
            "  Installing build dependencies ... \u001b[?25l\u001b[?25hdone\n",
            "  Getting requirements to build wheel ... \u001b[?25l\u001b[?25hdone\n",
            "  Preparing metadata (pyproject.toml) ... \u001b[?25l\u001b[?25hdone\n",
            "Requirement already satisfied: blessed<2.0.0,>=1.20.0 in /usr/local/lib/python3.11/dist-packages (from darkcyan==0.2.0) (1.20.0)\n",
            "Requirement already satisfied: coremltools<9.0,>=8.2 in /usr/local/lib/python3.11/dist-packages (from darkcyan==0.2.0) (8.2)\n",
            "Requirement already satisfied: enlighten<2.0.0,>=1.11.2 in /usr/local/lib/python3.11/dist-packages (from darkcyan==0.2.0) (1.14.1)\n",
            "Requirement already satisfied: ffmpeg-python<0.3.0,>=0.2.0 in /usr/local/lib/python3.11/dist-packages (from darkcyan==0.2.0) (0.2.0)\n",
            "Requirement already satisfied: google-api-python-client<3.0.0,>=2.86.0 in /usr/local/lib/python3.11/dist-packages (from darkcyan==0.2.0) (2.123.0)\n",
            "Requirement already satisfied: google-auth-httplib2<0.2.0,>=0.1.0 in /usr/local/lib/python3.11/dist-packages (from darkcyan==0.2.0) (0.1.1)\n",
            "Requirement already satisfied: google-auth-oauthlib<2.0.0,>=1.0.0 in /usr/local/lib/python3.11/dist-packages (from darkcyan==0.2.0) (1.2.1)\n",
            "Requirement already satisfied: imutils<0.6.0,>=0.5.4 in /usr/local/lib/python3.11/dist-packages (from darkcyan==0.2.0) (0.5.4)\n",
            "Requirement already satisfied: lapx<0.6.0,>=0.5.5 in /usr/local/lib/python3.11/dist-packages (from darkcyan==0.2.0) (0.5.11.post1)\n",
            "Requirement already satisfied: onnx<2.0.0,>=1.15.0 in /usr/local/lib/python3.11/dist-packages (from darkcyan==0.2.0) (1.17.0)\n",
            "Requirement already satisfied: opencv-python<5.0.0.0,>=4.7.0.72 in /usr/local/lib/python3.11/dist-packages (from darkcyan==0.2.0) (4.11.0.86)\n",
            "Requirement already satisfied: rich<14.0.0,>=13.3.5 in /usr/local/lib/python3.11/dist-packages (from darkcyan==0.2.0) (13.9.4)\n",
            "Requirement already satisfied: ultralytics<9.0,>=8.2 in /usr/local/lib/python3.11/dist-packages (from darkcyan==0.2.0) (8.3.102)\n",
            "Requirement already satisfied: wcwidth>=0.1.4 in /usr/local/lib/python3.11/dist-packages (from blessed<2.0.0,>=1.20.0->darkcyan==0.2.0) (0.2.13)\n",
            "Requirement already satisfied: six>=1.9.0 in /usr/local/lib/python3.11/dist-packages (from blessed<2.0.0,>=1.20.0->darkcyan==0.2.0) (1.17.0)\n",
            "Requirement already satisfied: numpy>=1.14.5 in /usr/local/lib/python3.11/dist-packages (from coremltools<9.0,>=8.2->darkcyan==0.2.0) (2.1.1)\n",
            "Requirement already satisfied: protobuf>=3.1.0 in /usr/local/lib/python3.11/dist-packages (from coremltools<9.0,>=8.2->darkcyan==0.2.0) (6.30.2)\n",
            "Requirement already satisfied: sympy in /usr/local/lib/python3.11/dist-packages (from coremltools<9.0,>=8.2->darkcyan==0.2.0) (1.13.1)\n",
            "Requirement already satisfied: tqdm in /usr/local/lib/python3.11/dist-packages (from coremltools<9.0,>=8.2->darkcyan==0.2.0) (4.67.1)\n",
            "Requirement already satisfied: packaging in /usr/local/lib/python3.11/dist-packages (from coremltools<9.0,>=8.2->darkcyan==0.2.0) (24.2)\n",
            "Requirement already satisfied: attrs>=21.3.0 in /usr/local/lib/python3.11/dist-packages (from coremltools<9.0,>=8.2->darkcyan==0.2.0) (25.3.0)\n",
            "Requirement already satisfied: cattrs in /usr/local/lib/python3.11/dist-packages (from coremltools<9.0,>=8.2->darkcyan==0.2.0) (24.1.3)\n",
            "Requirement already satisfied: pyaml in /usr/local/lib/python3.11/dist-packages (from coremltools<9.0,>=8.2->darkcyan==0.2.0) (25.1.0)\n",
            "Requirement already satisfied: prefixed>=0.3.2 in /usr/local/lib/python3.11/dist-packages (from enlighten<2.0.0,>=1.11.2->darkcyan==0.2.0) (0.9.0)\n",
            "Requirement already satisfied: future in /usr/local/lib/python3.11/dist-packages (from ffmpeg-python<0.3.0,>=0.2.0->darkcyan==0.2.0) (1.0.0)\n",
            "Requirement already satisfied: httplib2<1.dev0,>=0.15.0 in /usr/local/lib/python3.11/dist-packages (from google-api-python-client<3.0.0,>=2.86.0->darkcyan==0.2.0) (0.22.0)\n",
            "Requirement already satisfied: google-auth<3.0.0.dev0,>=1.19.0 in /usr/local/lib/python3.11/dist-packages (from google-api-python-client<3.0.0,>=2.86.0->darkcyan==0.2.0) (2.38.0)\n",
            "Requirement already satisfied: google-api-core!=2.0.*,!=2.1.*,!=2.2.*,!=2.3.0,<3.0.0.dev0,>=1.31.5 in /usr/local/lib/python3.11/dist-packages (from google-api-python-client<3.0.0,>=2.86.0->darkcyan==0.2.0) (2.24.2)\n",
            "Requirement already satisfied: uritemplate<5,>=3.0.1 in /usr/local/lib/python3.11/dist-packages (from google-api-python-client<3.0.0,>=2.86.0->darkcyan==0.2.0) (4.1.1)\n",
            "Requirement already satisfied: requests-oauthlib>=0.7.0 in /usr/local/lib/python3.11/dist-packages (from google-auth-oauthlib<2.0.0,>=1.0.0->darkcyan==0.2.0) (2.0.0)\n",
            "Requirement already satisfied: markdown-it-py>=2.2.0 in /usr/local/lib/python3.11/dist-packages (from rich<14.0.0,>=13.3.5->darkcyan==0.2.0) (3.0.0)\n",
            "Requirement already satisfied: pygments<3.0.0,>=2.13.0 in /usr/local/lib/python3.11/dist-packages (from rich<14.0.0,>=13.3.5->darkcyan==0.2.0) (2.19.1)\n",
            "Requirement already satisfied: matplotlib>=3.3.0 in /usr/local/lib/python3.11/dist-packages (from ultralytics<9.0,>=8.2->darkcyan==0.2.0) (3.10.1)\n",
            "Requirement already satisfied: pillow>=7.1.2 in /usr/local/lib/python3.11/dist-packages (from ultralytics<9.0,>=8.2->darkcyan==0.2.0) (11.1.0)\n",
            "Requirement already satisfied: pyyaml>=5.3.1 in /usr/local/lib/python3.11/dist-packages (from ultralytics<9.0,>=8.2->darkcyan==0.2.0) (6.0.2)\n",
            "Requirement already satisfied: requests>=2.23.0 in /usr/local/lib/python3.11/dist-packages (from ultralytics<9.0,>=8.2->darkcyan==0.2.0) (2.32.3)\n",
            "Requirement already satisfied: scipy>=1.4.1 in /usr/local/lib/python3.11/dist-packages (from ultralytics<9.0,>=8.2->darkcyan==0.2.0) (1.15.2)\n",
            "Requirement already satisfied: torch>=1.8.0 in /usr/local/lib/python3.11/dist-packages (from ultralytics<9.0,>=8.2->darkcyan==0.2.0) (2.6.0)\n",
            "Requirement already satisfied: torchvision>=0.9.0 in /usr/local/lib/python3.11/dist-packages (from ultralytics<9.0,>=8.2->darkcyan==0.2.0) (0.21.0)\n",
            "Requirement already satisfied: psutil in /usr/local/lib/python3.11/dist-packages (from ultralytics<9.0,>=8.2->darkcyan==0.2.0) (7.0.0)\n",
            "Requirement already satisfied: py-cpuinfo in /usr/local/lib/python3.11/dist-packages (from ultralytics<9.0,>=8.2->darkcyan==0.2.0) (9.0.0)\n",
            "Requirement already satisfied: pandas>=1.1.4 in /usr/local/lib/python3.11/dist-packages (from ultralytics<9.0,>=8.2->darkcyan==0.2.0) (2.2.3)\n",
            "Requirement already satisfied: seaborn>=0.11.0 in /usr/local/lib/python3.11/dist-packages (from ultralytics<9.0,>=8.2->darkcyan==0.2.0) (0.13.2)\n",
            "Requirement already satisfied: ultralytics-thop>=2.0.0 in /usr/local/lib/python3.11/dist-packages (from ultralytics<9.0,>=8.2->darkcyan==0.2.0) (2.0.14)\n",
            "Requirement already satisfied: googleapis-common-protos<2.0.0,>=1.56.2 in /usr/local/lib/python3.11/dist-packages (from google-api-core!=2.0.*,!=2.1.*,!=2.2.*,!=2.3.0,<3.0.0.dev0,>=1.31.5->google-api-python-client<3.0.0,>=2.86.0->darkcyan==0.2.0) (1.69.2)\n",
            "Requirement already satisfied: proto-plus<2.0.0,>=1.22.3 in /usr/local/lib/python3.11/dist-packages (from google-api-core!=2.0.*,!=2.1.*,!=2.2.*,!=2.3.0,<3.0.0.dev0,>=1.31.5->google-api-python-client<3.0.0,>=2.86.0->darkcyan==0.2.0) (1.26.1)\n",
            "Requirement already satisfied: cachetools<6.0,>=2.0.0 in /usr/local/lib/python3.11/dist-packages (from google-auth<3.0.0.dev0,>=1.19.0->google-api-python-client<3.0.0,>=2.86.0->darkcyan==0.2.0) (5.5.2)\n",
            "Requirement already satisfied: pyasn1-modules>=0.2.1 in /usr/local/lib/python3.11/dist-packages (from google-auth<3.0.0.dev0,>=1.19.0->google-api-python-client<3.0.0,>=2.86.0->darkcyan==0.2.0) (0.4.2)\n",
            "Requirement already satisfied: rsa<5,>=3.1.4 in /usr/local/lib/python3.11/dist-packages (from google-auth<3.0.0.dev0,>=1.19.0->google-api-python-client<3.0.0,>=2.86.0->darkcyan==0.2.0) (4.9)\n",
            "Requirement already satisfied: pyparsing!=3.0.0,!=3.0.1,!=3.0.2,!=3.0.3,<4,>=2.4.2 in /usr/local/lib/python3.11/dist-packages (from httplib2<1.dev0,>=0.15.0->google-api-python-client<3.0.0,>=2.86.0->darkcyan==0.2.0) (3.2.3)\n",
            "Requirement already satisfied: mdurl~=0.1 in /usr/local/lib/python3.11/dist-packages (from markdown-it-py>=2.2.0->rich<14.0.0,>=13.3.5->darkcyan==0.2.0) (0.1.2)\n",
            "Requirement already satisfied: contourpy>=1.0.1 in /usr/local/lib/python3.11/dist-packages (from matplotlib>=3.3.0->ultralytics<9.0,>=8.2->darkcyan==0.2.0) (1.3.1)\n",
            "Requirement already satisfied: cycler>=0.10 in /usr/local/lib/python3.11/dist-packages (from matplotlib>=3.3.0->ultralytics<9.0,>=8.2->darkcyan==0.2.0) (0.12.1)\n",
            "Requirement already satisfied: fonttools>=4.22.0 in /usr/local/lib/python3.11/dist-packages (from matplotlib>=3.3.0->ultralytics<9.0,>=8.2->darkcyan==0.2.0) (4.57.0)\n",
            "Requirement already satisfied: kiwisolver>=1.3.1 in /usr/local/lib/python3.11/dist-packages (from matplotlib>=3.3.0->ultralytics<9.0,>=8.2->darkcyan==0.2.0) (1.4.8)\n",
            "Requirement already satisfied: python-dateutil>=2.7 in /usr/local/lib/python3.11/dist-packages (from matplotlib>=3.3.0->ultralytics<9.0,>=8.2->darkcyan==0.2.0) (2.9.0.post0)\n",
            "Requirement already satisfied: pytz>=2020.1 in /usr/local/lib/python3.11/dist-packages (from pandas>=1.1.4->ultralytics<9.0,>=8.2->darkcyan==0.2.0) (2025.2)\n",
            "Requirement already satisfied: tzdata>=2022.7 in /usr/local/lib/python3.11/dist-packages (from pandas>=1.1.4->ultralytics<9.0,>=8.2->darkcyan==0.2.0) (2025.2)\n",
            "Requirement already satisfied: charset-normalizer<4,>=2 in /usr/local/lib/python3.11/dist-packages (from requests>=2.23.0->ultralytics<9.0,>=8.2->darkcyan==0.2.0) (3.4.1)\n",
            "Requirement already satisfied: idna<4,>=2.5 in /usr/local/lib/python3.11/dist-packages (from requests>=2.23.0->ultralytics<9.0,>=8.2->darkcyan==0.2.0) (3.10)\n",
            "Requirement already satisfied: urllib3<3,>=1.21.1 in /usr/local/lib/python3.11/dist-packages (from requests>=2.23.0->ultralytics<9.0,>=8.2->darkcyan==0.2.0) (2.3.0)\n",
            "Requirement already satisfied: certifi>=2017.4.17 in /usr/local/lib/python3.11/dist-packages (from requests>=2.23.0->ultralytics<9.0,>=8.2->darkcyan==0.2.0) (2025.1.31)\n",
            "Requirement already satisfied: oauthlib>=3.0.0 in /usr/local/lib/python3.11/dist-packages (from requests-oauthlib>=0.7.0->google-auth-oauthlib<2.0.0,>=1.0.0->darkcyan==0.2.0) (3.2.2)\n",
            "Requirement already satisfied: filelock in /usr/local/lib/python3.11/dist-packages (from torch>=1.8.0->ultralytics<9.0,>=8.2->darkcyan==0.2.0) (3.18.0)\n",
            "Requirement already satisfied: typing-extensions>=4.10.0 in /usr/local/lib/python3.11/dist-packages (from torch>=1.8.0->ultralytics<9.0,>=8.2->darkcyan==0.2.0) (4.13.1)\n",
            "Requirement already satisfied: networkx in /usr/local/lib/python3.11/dist-packages (from torch>=1.8.0->ultralytics<9.0,>=8.2->darkcyan==0.2.0) (3.4.2)\n",
            "Requirement already satisfied: jinja2 in /usr/local/lib/python3.11/dist-packages (from torch>=1.8.0->ultralytics<9.0,>=8.2->darkcyan==0.2.0) (3.1.6)\n",
            "Requirement already satisfied: fsspec in /usr/local/lib/python3.11/dist-packages (from torch>=1.8.0->ultralytics<9.0,>=8.2->darkcyan==0.2.0) (2025.3.2)\n",
            "Requirement already satisfied: nvidia-cuda-nvrtc-cu12==12.4.127 in /usr/local/lib/python3.11/dist-packages (from torch>=1.8.0->ultralytics<9.0,>=8.2->darkcyan==0.2.0) (12.4.127)\n",
            "Requirement already satisfied: nvidia-cuda-runtime-cu12==12.4.127 in /usr/local/lib/python3.11/dist-packages (from torch>=1.8.0->ultralytics<9.0,>=8.2->darkcyan==0.2.0) (12.4.127)\n",
            "Requirement already satisfied: nvidia-cuda-cupti-cu12==12.4.127 in /usr/local/lib/python3.11/dist-packages (from torch>=1.8.0->ultralytics<9.0,>=8.2->darkcyan==0.2.0) (12.4.127)\n",
            "Requirement already satisfied: nvidia-cudnn-cu12==9.1.0.70 in /usr/local/lib/python3.11/dist-packages (from torch>=1.8.0->ultralytics<9.0,>=8.2->darkcyan==0.2.0) (9.1.0.70)\n",
            "Requirement already satisfied: nvidia-cublas-cu12==12.4.5.8 in /usr/local/lib/python3.11/dist-packages (from torch>=1.8.0->ultralytics<9.0,>=8.2->darkcyan==0.2.0) (12.4.5.8)\n",
            "Requirement already satisfied: nvidia-cufft-cu12==11.2.1.3 in /usr/local/lib/python3.11/dist-packages (from torch>=1.8.0->ultralytics<9.0,>=8.2->darkcyan==0.2.0) (11.2.1.3)\n",
            "Requirement already satisfied: nvidia-curand-cu12==10.3.5.147 in /usr/local/lib/python3.11/dist-packages (from torch>=1.8.0->ultralytics<9.0,>=8.2->darkcyan==0.2.0) (10.3.5.147)\n",
            "Requirement already satisfied: nvidia-cusolver-cu12==11.6.1.9 in /usr/local/lib/python3.11/dist-packages (from torch>=1.8.0->ultralytics<9.0,>=8.2->darkcyan==0.2.0) (11.6.1.9)\n",
            "Requirement already satisfied: nvidia-cusparse-cu12==12.3.1.170 in /usr/local/lib/python3.11/dist-packages (from torch>=1.8.0->ultralytics<9.0,>=8.2->darkcyan==0.2.0) (12.3.1.170)\n",
            "Requirement already satisfied: nvidia-cusparselt-cu12==0.6.2 in /usr/local/lib/python3.11/dist-packages (from torch>=1.8.0->ultralytics<9.0,>=8.2->darkcyan==0.2.0) (0.6.2)\n",
            "Requirement already satisfied: nvidia-nccl-cu12==2.21.5 in /usr/local/lib/python3.11/dist-packages (from torch>=1.8.0->ultralytics<9.0,>=8.2->darkcyan==0.2.0) (2.21.5)\n",
            "Requirement already satisfied: nvidia-nvtx-cu12==12.4.127 in /usr/local/lib/python3.11/dist-packages (from torch>=1.8.0->ultralytics<9.0,>=8.2->darkcyan==0.2.0) (12.4.127)\n",
            "Requirement already satisfied: nvidia-nvjitlink-cu12==12.4.127 in /usr/local/lib/python3.11/dist-packages (from torch>=1.8.0->ultralytics<9.0,>=8.2->darkcyan==0.2.0) (12.4.127)\n",
            "Requirement already satisfied: triton==3.2.0 in /usr/local/lib/python3.11/dist-packages (from torch>=1.8.0->ultralytics<9.0,>=8.2->darkcyan==0.2.0) (3.2.0)\n",
            "Requirement already satisfied: mpmath<1.4,>=1.1.0 in /usr/local/lib/python3.11/dist-packages (from sympy->coremltools<9.0,>=8.2->darkcyan==0.2.0) (1.3.0)\n",
            "Requirement already satisfied: pyasn1<0.7.0,>=0.6.1 in /usr/local/lib/python3.11/dist-packages (from pyasn1-modules>=0.2.1->google-auth<3.0.0.dev0,>=1.19.0->google-api-python-client<3.0.0,>=2.86.0->darkcyan==0.2.0) (0.6.1)\n",
            "Requirement already satisfied: MarkupSafe>=2.0 in /usr/local/lib/python3.11/dist-packages (from jinja2->torch>=1.8.0->ultralytics<9.0,>=8.2->darkcyan==0.2.0) (3.0.2)\n",
            "Collecting git+https://github.com/harbour22/darkcyan.git\n",
            "  Cloning https://github.com/harbour22/darkcyan.git to /tmp/pip-req-build-my89nn5s\n",
            "  Running command git clone --filter=blob:none --quiet https://github.com/harbour22/darkcyan.git /tmp/pip-req-build-my89nn5s\n",
            "  Resolved https://github.com/harbour22/darkcyan.git to commit 11a08877e65aeb698df1cac6db7bcdc2eee4b1ed\n",
            "  Installing build dependencies ... \u001b[?25l\u001b[?25hdone\n",
            "  Getting requirements to build wheel ... \u001b[?25l\u001b[?25hdone\n",
            "  Preparing metadata (pyproject.toml) ... \u001b[?25l\u001b[?25hdone\n",
            "Building wheels for collected packages: darkcyan\n",
            "  Building wheel for darkcyan (pyproject.toml) ... \u001b[?25l\u001b[?25hdone\n",
            "  Created wheel for darkcyan: filename=darkcyan-0.2.0-py3-none-any.whl size=25169 sha256=5ce7910fd3455154361518851c21c5fc1bf92f2cf308ab224dc7c0d87a094d54\n",
            "  Stored in directory: /tmp/pip-ephem-wheel-cache-118rm0eg/wheels/61/17/75/d022f35d0a219af4adb9d2a9913ec75ed5550320f763fe90c4\n",
            "Successfully built darkcyan\n",
            "Installing collected packages: darkcyan\n",
            "  Attempting uninstall: darkcyan\n",
            "    Found existing installation: darkcyan 0.2.0\n",
            "    Uninstalling darkcyan-0.2.0:\n",
            "      Successfully uninstalled darkcyan-0.2.0\n",
            "Successfully installed darkcyan-0.2.0\n"
          ]
        }
      ],
      "source": [
        "!pip install --upgrade git+https://github.com/harbour22/darkcyan.git\n",
        "!pip install --upgrade --force-reinstall --no-deps git+https://github.com/harbour22/darkcyan.git\n",
        "\n",
        "clear_output(wait=False)\n",
        "exit()"
      ]
    },
    {
      "cell_type": "code",
      "execution_count": 3,
      "metadata": {
        "colab": {
          "base_uri": "https://localhost:8080/"
        },
        "id": "4k8D9ksgpxOu",
        "outputId": "8b7787f1-abb7-45f4-c5fd-732c95cfcf31"
      },
      "outputs": [
        {
          "output_type": "stream",
          "name": "stdout",
          "text": [
            "Mounted at /content/drive\n"
          ]
        }
      ],
      "source": [
        "from google.colab import drive # type: ignore\n",
        "drive.mount('/content/drive')"
      ]
    },
    {
      "cell_type": "code",
      "execution_count": 3,
      "metadata": {
        "id": "RR8OlPkNjS8U",
        "colab": {
          "base_uri": "https://localhost:8080/",
          "height": 148
        },
        "outputId": "6aeaeec2-af45-44aa-a6ca-f2d34157330a"
      },
      "outputs": [
        {
          "output_type": "stream",
          "name": "stdout",
          "text": [
            "Creating new Ultralytics Settings v0.0.6 file ✅ \n",
            "View Ultralytics Settings with 'yolo settings' or at '/root/.config/Ultralytics/settings.json'\n",
            "Update Settings with 'yolo settings key=value', i.e. 'yolo settings runs_dir=path/to/dir'. For help see https://docs.ultralytics.com/quickstart/#ultralytics-settings.\n"
          ]
        },
        {
          "output_type": "display_data",
          "data": {
            "text/plain": [
              "Config file \u001b[35m/root/.darkcyan/\u001b[0m\u001b[95mconfig.json\u001b[0m does not exist, creating\n"
            ],
            "text/html": [
              "<pre style=\"white-space:pre;overflow-x:auto;line-height:normal;font-family:Menlo,'DejaVu Sans Mono',consolas,'Courier New',monospace\">Config file <span style=\"color: #800080; text-decoration-color: #800080\">/root/.darkcyan/</span><span style=\"color: #ff00ff; text-decoration-color: #ff00ff\">config.json</span> does not exist, creating\n",
              "</pre>\n"
            ]
          },
          "metadata": {}
        },
        {
          "output_type": "display_data",
          "data": {
            "text/plain": [
              "Config key local_data_repository not found, attempting defaults\n"
            ],
            "text/html": [
              "<pre style=\"white-space:pre;overflow-x:auto;line-height:normal;font-family:Menlo,'DejaVu Sans Mono',consolas,'Courier New',monospace\">Config key local_data_repository not found, attempting defaults\n",
              "</pre>\n"
            ]
          },
          "metadata": {}
        },
        {
          "output_type": "display_data",
          "data": {
            "text/plain": [
              "Config key scratch_dir not found, attempting defaults\n"
            ],
            "text/html": [
              "<pre style=\"white-space:pre;overflow-x:auto;line-height:normal;font-family:Menlo,'DejaVu Sans Mono',consolas,'Courier New',monospace\">Config key scratch_dir not found, attempting defaults\n",
              "</pre>\n"
            ]
          },
          "metadata": {}
        },
        {
          "output_type": "display_data",
          "data": {
            "text/plain": [
              "Config key data_prefix not found, attempting defaults\n"
            ],
            "text/html": [
              "<pre style=\"white-space:pre;overflow-x:auto;line-height:normal;font-family:Menlo,'DejaVu Sans Mono',consolas,'Courier New',monospace\">Config key data_prefix not found, attempting defaults\n",
              "</pre>\n"
            ]
          },
          "metadata": {}
        },
        {
          "output_type": "display_data",
          "data": {
            "text/plain": [
              "Config key temp_dir not found, attempting defaults\n"
            ],
            "text/html": [
              "<pre style=\"white-space:pre;overflow-x:auto;line-height:normal;font-family:Menlo,'DejaVu Sans Mono',consolas,'Courier New',monospace\">Config key temp_dir not found, attempting defaults\n",
              "</pre>\n"
            ]
          },
          "metadata": {}
        }
      ],
      "source": [
        "## App Imports\n",
        "from darkcyan_tools.training_utils import train"
      ]
    },
    {
      "cell_type": "code",
      "source": [
        "train()\n"
      ],
      "metadata": {
        "id": "bSqAoz_cUDMY",
        "outputId": "c9864c35-a6da-4485-d0af-68d70ab0ec94",
        "colab": {
          "base_uri": "https://localhost:8080/",
          "height": 538
        }
      },
      "execution_count": 4,
      "outputs": [
        {
          "output_type": "display_data",
          "data": {
            "text/plain": [
              "Training the model\n"
            ],
            "text/html": [
              "<pre style=\"white-space:pre;overflow-x:auto;line-height:normal;font-family:Menlo,'DejaVu Sans Mono',consolas,'Courier New',monospace\">Training the model\n",
              "</pre>\n"
            ]
          },
          "metadata": {}
        },
        {
          "output_type": "display_data",
          "data": {
            "text/plain": [
              "Running in Colab on linux\n"
            ],
            "text/html": [
              "<pre style=\"white-space:pre;overflow-x:auto;line-height:normal;font-family:Menlo,'DejaVu Sans Mono',consolas,'Courier New',monospace\">Running in Colab on linux\n",
              "</pre>\n"
            ]
          },
          "metadata": {}
        },
        {
          "output_type": "display_data",
          "data": {
            "text/plain": [
              "Config key training_data_root not found, attempting defaults\n"
            ],
            "text/html": [
              "<pre style=\"white-space:pre;overflow-x:auto;line-height:normal;font-family:Menlo,'DejaVu Sans Mono',consolas,'Courier New',monospace\">Config key training_data_root not found, attempting defaults\n",
              "</pre>\n"
            ]
          },
          "metadata": {}
        },
        {
          "output_type": "display_data",
          "data": {
            "text/plain": [
              "Loading config from \u001b[35m/content/drive/MyDrive/yolo/runtime_config/\u001b[0m\u001b[95mlimetree_yolo_training_config.json\u001b[0m\n"
            ],
            "text/html": [
              "<pre style=\"white-space:pre;overflow-x:auto;line-height:normal;font-family:Menlo,'DejaVu Sans Mono',consolas,'Courier New',monospace\">Loading config from <span style=\"color: #800080; text-decoration-color: #800080\">/content/drive/MyDrive/yolo/runtime_config/</span><span style=\"color: #ff00ff; text-decoration-color: #ff00ff\">limetree_yolo_training_config.json</span>\n",
              "</pre>\n"
            ]
          },
          "metadata": {}
        },
        {
          "output_type": "display_data",
          "data": {
            "text/plain": [
              "\u001b[1m{\u001b[0m\n",
              "    \u001b[32m\"version\"\u001b[0m: \u001b[32m\"5.1\"\u001b[0m,\n",
              "    \u001b[32m\"type\"\u001b[0m: \u001b[32m\"det\"\u001b[0m,\n",
              "    \u001b[32m\"yolov\"\u001b[0m: \u001b[32m\"v12\"\u001b[0m,\n",
              "    \u001b[32m\"training_data\"\u001b[0m: \u001b[32m\"limetree_v5.1_det.zip\"\u001b[0m,\n",
              "    \u001b[32m\"basemodel\"\u001b[0m: \u001b[32m\"large\"\u001b[0m,\n",
              "    \u001b[32m\"epochs\"\u001b[0m: \u001b[1;36m300\u001b[0m,\n",
              "    \u001b[32m\"imgsz\"\u001b[0m: \u001b[1;36m640\u001b[0m,\n",
              "    \u001b[32m\"batchsize\"\u001b[0m: \u001b[1;36m24\u001b[0m,\n",
              "    \u001b[32m\"config_creation_time\"\u001b[0m: \u001b[32m\"2025-04-06 12:37:26\"\u001b[0m,\n",
              "    \u001b[32m\"created_by\"\u001b[0m: \u001b[32m\"chris\"\u001b[0m\n",
              "\u001b[1m}\u001b[0m\n"
            ],
            "text/html": [
              "<pre style=\"white-space:pre;overflow-x:auto;line-height:normal;font-family:Menlo,'DejaVu Sans Mono',consolas,'Courier New',monospace\"><span style=\"font-weight: bold\">{</span>\n",
              "    <span style=\"color: #008000; text-decoration-color: #008000\">\"version\"</span>: <span style=\"color: #008000; text-decoration-color: #008000\">\"5.1\"</span>,\n",
              "    <span style=\"color: #008000; text-decoration-color: #008000\">\"type\"</span>: <span style=\"color: #008000; text-decoration-color: #008000\">\"det\"</span>,\n",
              "    <span style=\"color: #008000; text-decoration-color: #008000\">\"yolov\"</span>: <span style=\"color: #008000; text-decoration-color: #008000\">\"v12\"</span>,\n",
              "    <span style=\"color: #008000; text-decoration-color: #008000\">\"training_data\"</span>: <span style=\"color: #008000; text-decoration-color: #008000\">\"limetree_v5.1_det.zip\"</span>,\n",
              "    <span style=\"color: #008000; text-decoration-color: #008000\">\"basemodel\"</span>: <span style=\"color: #008000; text-decoration-color: #008000\">\"large\"</span>,\n",
              "    <span style=\"color: #008000; text-decoration-color: #008000\">\"epochs\"</span>: <span style=\"color: #008080; text-decoration-color: #008080; font-weight: bold\">300</span>,\n",
              "    <span style=\"color: #008000; text-decoration-color: #008000\">\"imgsz\"</span>: <span style=\"color: #008080; text-decoration-color: #008080; font-weight: bold\">640</span>,\n",
              "    <span style=\"color: #008000; text-decoration-color: #008000\">\"batchsize\"</span>: <span style=\"color: #008080; text-decoration-color: #008080; font-weight: bold\">24</span>,\n",
              "    <span style=\"color: #008000; text-decoration-color: #008000\">\"config_creation_time\"</span>: <span style=\"color: #008000; text-decoration-color: #008000\">\"2025-04-06 12:37:26\"</span>,\n",
              "    <span style=\"color: #008000; text-decoration-color: #008000\">\"created_by\"</span>: <span style=\"color: #008000; text-decoration-color: #008000\">\"chris\"</span>\n",
              "<span style=\"font-weight: bold\">}</span>\n",
              "</pre>\n"
            ]
          },
          "metadata": {}
        },
        {
          "output_type": "error",
          "ename": "KeyError",
          "evalue": "'v12'",
          "traceback": [
            "\u001b[0;31m---------------------------------------------------------------------------\u001b[0m",
            "\u001b[0;31mKeyError\u001b[0m                                  Traceback (most recent call last)",
            "\u001b[0;32m<ipython-input-4-2da0ffaf5447>\u001b[0m in \u001b[0;36m<cell line: 0>\u001b[0;34m()\u001b[0m\n\u001b[0;32m----> 1\u001b[0;31m \u001b[0mtrain\u001b[0m\u001b[0;34m(\u001b[0m\u001b[0;34m)\u001b[0m\u001b[0;34m\u001b[0m\u001b[0;34m\u001b[0m\u001b[0m\n\u001b[0m",
            "\u001b[0;32m/usr/local/lib/python3.11/dist-packages/darkcyan_tools/training_utils.py\u001b[0m in \u001b[0;36mtrain\u001b[0;34m()\u001b[0m\n\u001b[1;32m     79\u001b[0m     \u001b[0mepochs\u001b[0m \u001b[0;34m=\u001b[0m \u001b[0mconfig\u001b[0m\u001b[0;34m[\u001b[0m\u001b[0;34m'epochs'\u001b[0m\u001b[0;34m]\u001b[0m\u001b[0;34m\u001b[0m\u001b[0;34m\u001b[0m\u001b[0m\n\u001b[1;32m     80\u001b[0m     \u001b[0mimgsz\u001b[0m \u001b[0;34m=\u001b[0m \u001b[0mconfig\u001b[0m\u001b[0;34m[\u001b[0m\u001b[0;34m'imgsz'\u001b[0m\u001b[0;34m]\u001b[0m\u001b[0;34m\u001b[0m\u001b[0;34m\u001b[0m\u001b[0m\n\u001b[0;32m---> 81\u001b[0;31m     \u001b[0myolo_version\u001b[0m \u001b[0;34m=\u001b[0m \u001b[0mYoloVersion\u001b[0m\u001b[0;34m[\u001b[0m\u001b[0mconfig\u001b[0m\u001b[0;34m.\u001b[0m\u001b[0mget\u001b[0m\u001b[0;34m(\u001b[0m\u001b[0;34m'yolov'\u001b[0m\u001b[0;34m,\u001b[0m \u001b[0;34m'v8'\u001b[0m\u001b[0;34m)\u001b[0m\u001b[0;34m]\u001b[0m\u001b[0;34m\u001b[0m\u001b[0;34m\u001b[0m\u001b[0m\n\u001b[0m\u001b[1;32m     82\u001b[0m \u001b[0;34m\u001b[0m\u001b[0m\n\u001b[1;32m     83\u001b[0m     \u001b[0mproject_path\u001b[0m \u001b[0;34m=\u001b[0m \u001b[0mPath\u001b[0m\u001b[0;34m(\u001b[0m\u001b[0mtraining_data_root\u001b[0m\u001b[0;34m)\u001b[0m \u001b[0;34m/\u001b[0m\u001b[0;31m \u001b[0m\u001b[0;31m\\\u001b[0m\u001b[0;34m\u001b[0m\u001b[0;34m\u001b[0m\u001b[0m\n",
            "\u001b[0;32m/usr/lib/python3.11/enum.py\u001b[0m in \u001b[0;36m__getitem__\u001b[0;34m(cls, name)\u001b[0m\n\u001b[1;32m    790\u001b[0m         \u001b[0mReturn\u001b[0m \u001b[0mthe\u001b[0m \u001b[0mmember\u001b[0m \u001b[0mmatching\u001b[0m\u001b[0;31m \u001b[0m\u001b[0;31m`\u001b[0m\u001b[0mname\u001b[0m\u001b[0;31m`\u001b[0m\u001b[0;34m.\u001b[0m\u001b[0;34m\u001b[0m\u001b[0;34m\u001b[0m\u001b[0m\n\u001b[1;32m    791\u001b[0m         \"\"\"\n\u001b[0;32m--> 792\u001b[0;31m         \u001b[0;32mreturn\u001b[0m \u001b[0mcls\u001b[0m\u001b[0;34m.\u001b[0m\u001b[0m_member_map_\u001b[0m\u001b[0;34m[\u001b[0m\u001b[0mname\u001b[0m\u001b[0;34m]\u001b[0m\u001b[0;34m\u001b[0m\u001b[0;34m\u001b[0m\u001b[0m\n\u001b[0m\u001b[1;32m    793\u001b[0m \u001b[0;34m\u001b[0m\u001b[0m\n\u001b[1;32m    794\u001b[0m     \u001b[0;32mdef\u001b[0m \u001b[0m__iter__\u001b[0m\u001b[0;34m(\u001b[0m\u001b[0mcls\u001b[0m\u001b[0;34m)\u001b[0m\u001b[0;34m:\u001b[0m\u001b[0;34m\u001b[0m\u001b[0;34m\u001b[0m\u001b[0m\n",
            "\u001b[0;31mKeyError\u001b[0m: 'v12'"
          ]
        }
      ]
    }
  ],
  "metadata": {
    "accelerator": "GPU",
    "colab": {
      "gpuType": "L4",
      "provenance": [],
      "include_colab_link": true
    },
    "kernelspec": {
      "display_name": "Python 3",
      "name": "python3"
    },
    "language_info": {
      "name": "python"
    }
  },
  "nbformat": 4,
  "nbformat_minor": 0
}