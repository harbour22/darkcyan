{
  "cells": [
    {
      "cell_type": "markdown",
      "metadata": {
        "id": "view-in-github",
        "colab_type": "text"
      },
      "source": [
        "<a href=\"https://colab.research.google.com/github/harbour22/darkcyan/blob/main/DarkCyan-yolo-v9-trainer.ipynb\" target=\"_parent\"><img src=\"https://colab.research.google.com/assets/colab-badge.svg\" alt=\"Open In Colab\"/></a>"
      ]
    },
    {
      "cell_type": "code",
      "execution_count": null,
      "metadata": {
        "id": "qXvGrJ2QOYE7"
      },
      "outputs": [],
      "source": [
        "## General Imports\n",
        "from google.colab import drive # type: ignore\n",
        "from IPython.display import clear_output # type: ignore\n",
        "from pathlib import Path\n",
        "import json\n",
        "import shutil\n",
        "import os\n",
        "import time\n",
        "from datetime import datetime\n"
      ]
    },
    {
      "cell_type": "code",
      "execution_count": null,
      "metadata": {
        "id": "gEmIBZL4NHYI"
      },
      "outputs": [],
      "source": [
        "!pip install --upgrade git+https://github.com/harbour22/darkcyan.git\n",
        "clear_output(wait=False)\n",
        "exit()"
      ]
    },
    {
      "cell_type": "code",
      "execution_count": null,
      "metadata": {
        "colab": {
          "base_uri": "https://localhost:8080/"
        },
        "id": "4k8D9ksgpxOu",
        "outputId": "deded63e-970f-4761-85d4-ee589868fe8f"
      },
      "outputs": [
        {
          "output_type": "stream",
          "name": "stdout",
          "text": [
            "Drive already mounted at /content/drive; to attempt to forcibly remount, call drive.mount(\"/content/drive\", force_remount=True).\n"
          ]
        }
      ],
      "source": [
        "from google.colab import drive # type: ignore\n",
        "drive.mount('/content/drive')"
      ]
    },
    {
      "cell_type": "code",
      "execution_count": null,
      "metadata": {
        "id": "RR8OlPkNjS8U"
      },
      "outputs": [],
      "source": [
        "## App Imports\n",
        "from darkcyan_tools.training_utils import train"
      ]
    },
    {
      "cell_type": "code",
      "source": [
        "train()\n"
      ],
      "metadata": {
        "id": "bSqAoz_cUDMY",
        "outputId": "3748680e-0ca2-4339-8118-7ac1d73b84b6",
        "colab": {
          "base_uri": "https://localhost:8080/",
          "height": 1000
        }
      },
      "execution_count": null,
      "outputs": [
        {
          "output_type": "display_data",
          "data": {
            "text/plain": [
              "Training the model\n"
            ],
            "text/html": [
              "<pre style=\"white-space:pre;overflow-x:auto;line-height:normal;font-family:Menlo,'DejaVu Sans Mono',consolas,'Courier New',monospace\">Training the model\n",
              "</pre>\n"
            ]
          },
          "metadata": {}
        },
        {
          "output_type": "display_data",
          "data": {
            "text/plain": [
              "Running in Colab on linux\n"
            ],
            "text/html": [
              "<pre style=\"white-space:pre;overflow-x:auto;line-height:normal;font-family:Menlo,'DejaVu Sans Mono',consolas,'Courier New',monospace\">Running in Colab on linux\n",
              "</pre>\n"
            ]
          },
          "metadata": {}
        },
        {
          "output_type": "display_data",
          "data": {
            "text/plain": [
              "\u001b[1m{\u001b[0m\n",
              "    \u001b[32m\"version\"\u001b[0m: \u001b[32m\"4.5t\"\u001b[0m,\n",
              "    \u001b[32m\"type\"\u001b[0m: \u001b[32m\"det\"\u001b[0m,\n",
              "    \u001b[32m\"training_data\"\u001b[0m: \u001b[32m\"limetree_v4.5_det.zip\"\u001b[0m,\n",
              "    \u001b[32m\"basemodel\"\u001b[0m: \u001b[32m\"large\"\u001b[0m,\n",
              "    \u001b[32m\"epochs\"\u001b[0m: \u001b[1;36m300\u001b[0m,\n",
              "    \u001b[32m\"imgsz\"\u001b[0m: \u001b[1;36m640\u001b[0m,\n",
              "    \u001b[32m\"batchsize\"\u001b[0m: \u001b[1;36m8\u001b[0m,\n",
              "    \u001b[32m\"config_creation_time\"\u001b[0m: \u001b[32m\"2023-08-20 08:00:11\"\u001b[0m,\n",
              "    \u001b[32m\"created_by\"\u001b[0m: \u001b[32m\"chris\"\u001b[0m\n",
              "\u001b[1m}\u001b[0m\n"
            ],
            "text/html": [
              "<pre style=\"white-space:pre;overflow-x:auto;line-height:normal;font-family:Menlo,'DejaVu Sans Mono',consolas,'Courier New',monospace\"><span style=\"font-weight: bold\">{</span>\n",
              "    <span style=\"color: #008000; text-decoration-color: #008000\">\"version\"</span>: <span style=\"color: #008000; text-decoration-color: #008000\">\"4.5t\"</span>,\n",
              "    <span style=\"color: #008000; text-decoration-color: #008000\">\"type\"</span>: <span style=\"color: #008000; text-decoration-color: #008000\">\"det\"</span>,\n",
              "    <span style=\"color: #008000; text-decoration-color: #008000\">\"training_data\"</span>: <span style=\"color: #008000; text-decoration-color: #008000\">\"limetree_v4.5_det.zip\"</span>,\n",
              "    <span style=\"color: #008000; text-decoration-color: #008000\">\"basemodel\"</span>: <span style=\"color: #008000; text-decoration-color: #008000\">\"large\"</span>,\n",
              "    <span style=\"color: #008000; text-decoration-color: #008000\">\"epochs\"</span>: <span style=\"color: #008080; text-decoration-color: #008080; font-weight: bold\">300</span>,\n",
              "    <span style=\"color: #008000; text-decoration-color: #008000\">\"imgsz\"</span>: <span style=\"color: #008080; text-decoration-color: #008080; font-weight: bold\">640</span>,\n",
              "    <span style=\"color: #008000; text-decoration-color: #008000\">\"batchsize\"</span>: <span style=\"color: #008080; text-decoration-color: #008080; font-weight: bold\">8</span>,\n",
              "    <span style=\"color: #008000; text-decoration-color: #008000\">\"config_creation_time\"</span>: <span style=\"color: #008000; text-decoration-color: #008000\">\"2023-08-20 08:00:11\"</span>,\n",
              "    <span style=\"color: #008000; text-decoration-color: #008000\">\"created_by\"</span>: <span style=\"color: #008000; text-decoration-color: #008000\">\"chris\"</span>\n",
              "<span style=\"font-weight: bold\">}</span>\n",
              "</pre>\n"
            ]
          },
          "metadata": {}
        },
        {
          "output_type": "display_data",
          "data": {
            "text/plain": [
              "Training data found at \u001b[35m/root/developer/darkcyan_data/temp/\u001b[0m\u001b[95mdet_4.5t_training_data\u001b[0m\n"
            ],
            "text/html": [
              "<pre style=\"white-space:pre;overflow-x:auto;line-height:normal;font-family:Menlo,'DejaVu Sans Mono',consolas,'Courier New',monospace\">Training data found at <span style=\"color: #800080; text-decoration-color: #800080\">/root/developer/darkcyan_data/temp/</span><span style=\"color: #ff00ff; text-decoration-color: #ff00ff\">det_4.5t_training_data</span>\n",
              "</pre>\n"
            ]
          },
          "metadata": {}
        },
        {
          "output_type": "display_data",
          "data": {
            "text/plain": [
              "yolov8l.pt \u001b[35m/content/drive/MyDrive/yolo/training_output/det/darkcyan_4.5t/large/train/weights/\u001b[0m\u001b[95mlast.pt\u001b[0m \u001b[3;91mFalse\u001b[0m\n"
            ],
            "text/html": [
              "<pre style=\"white-space:pre;overflow-x:auto;line-height:normal;font-family:Menlo,'DejaVu Sans Mono',consolas,'Courier New',monospace\">yolov8l.pt <span style=\"color: #800080; text-decoration-color: #800080\">/content/drive/MyDrive/yolo/training_output/det/darkcyan_4.5t/large/train/weights/</span><span style=\"color: #ff00ff; text-decoration-color: #ff00ff\">last.pt</span> <span style=\"color: #ff0000; text-decoration-color: #ff0000; font-style: italic\">False</span>\n",
              "</pre>\n"
            ]
          },
          "metadata": {}
        },
        {
          "output_type": "display_data",
          "data": {
            "text/plain": [
              "MPS not available\n"
            ],
            "text/html": [
              "<pre style=\"white-space:pre;overflow-x:auto;line-height:normal;font-family:Menlo,'DejaVu Sans Mono',consolas,'Courier New',monospace\">MPS not available\n",
              "</pre>\n"
            ]
          },
          "metadata": {}
        },
        {
          "output_type": "stream",
          "name": "stderr",
          "text": [
            "Ultralytics YOLOv8.0.162 🚀 Python-3.10.12 torch-2.0.1+cu118 CUDA:0 (Tesla V100-SXM2-16GB, 16151MiB)\n",
            "\u001b[34m\u001b[1mengine/trainer: \u001b[0mtask=detect, mode=train, model=yolov8l.pt, data=/root/developer/darkcyan_data/temp/det_4.5t_training_data/darkcyan.yaml, epochs=300, patience=50, batch=8, imgsz=640, save=True, save_period=-1, cache=False, device=None, workers=8, project=/content/drive/MyDrive/yolo/training_output/det/darkcyan_4.5t/large, name=None, exist_ok=True, pretrained=True, optimizer=auto, verbose=True, seed=0, deterministic=True, single_cls=False, rect=False, cos_lr=False, close_mosaic=10, resume=False, amp=True, fraction=1.0, profile=False, freeze=None, overlap_mask=True, mask_ratio=4, dropout=0.0, val=True, split=val, save_json=False, save_hybrid=False, conf=None, iou=0.7, max_det=300, half=False, dnn=False, plots=True, source=None, show=False, save_txt=False, save_conf=False, save_crop=False, show_labels=True, show_conf=True, vid_stride=1, line_width=None, visualize=False, augment=False, agnostic_nms=False, classes=None, retina_masks=False, boxes=True, format=torchscript, keras=False, optimize=False, int8=False, dynamic=False, simplify=False, opset=None, workspace=4, nms=False, lr0=0.01, lrf=0.01, momentum=0.937, weight_decay=0.0005, warmup_epochs=3.0, warmup_momentum=0.8, warmup_bias_lr=0.1, box=7.5, cls=0.5, dfl=1.5, pose=12.0, kobj=1.0, label_smoothing=0.0, nbs=64, hsv_h=0.015, hsv_s=0.7, hsv_v=0.4, degrees=0.0, translate=0.1, scale=0.5, shear=0.0, perspective=0.0, flipud=0.0, fliplr=0.5, mosaic=1.0, mixup=0.0, copy_paste=0.0, cfg=None, tracker=botsort.yaml, save_dir=/content/drive/MyDrive/yolo/training_output/det/darkcyan_4.5t/large/train\n",
            "Overriding model.yaml nc=80 with nc=6\n",
            "\n",
            "                   from  n    params  module                                       arguments                     \n",
            "  0                  -1  1      1856  ultralytics.nn.modules.conv.Conv             [3, 64, 3, 2]                 \n",
            "  1                  -1  1     73984  ultralytics.nn.modules.conv.Conv             [64, 128, 3, 2]               \n",
            "  2                  -1  3    279808  ultralytics.nn.modules.block.C2f             [128, 128, 3, True]           \n",
            "  3                  -1  1    295424  ultralytics.nn.modules.conv.Conv             [128, 256, 3, 2]              \n",
            "  4                  -1  6   2101248  ultralytics.nn.modules.block.C2f             [256, 256, 6, True]           \n",
            "  5                  -1  1   1180672  ultralytics.nn.modules.conv.Conv             [256, 512, 3, 2]              \n",
            "  6                  -1  6   8396800  ultralytics.nn.modules.block.C2f             [512, 512, 6, True]           \n",
            "  7                  -1  1   2360320  ultralytics.nn.modules.conv.Conv             [512, 512, 3, 2]              \n",
            "  8                  -1  3   4461568  ultralytics.nn.modules.block.C2f             [512, 512, 3, True]           \n",
            "  9                  -1  1    656896  ultralytics.nn.modules.block.SPPF            [512, 512, 5]                 \n",
            " 10                  -1  1         0  torch.nn.modules.upsampling.Upsample         [None, 2, 'nearest']          \n",
            " 11             [-1, 6]  1         0  ultralytics.nn.modules.conv.Concat           [1]                           \n",
            " 12                  -1  3   4723712  ultralytics.nn.modules.block.C2f             [1024, 512, 3]                \n",
            " 13                  -1  1         0  torch.nn.modules.upsampling.Upsample         [None, 2, 'nearest']          \n",
            " 14             [-1, 4]  1         0  ultralytics.nn.modules.conv.Concat           [1]                           \n",
            " 15                  -1  3   1247744  ultralytics.nn.modules.block.C2f             [768, 256, 3]                 \n",
            " 16                  -1  1    590336  ultralytics.nn.modules.conv.Conv             [256, 256, 3, 2]              \n",
            " 17            [-1, 12]  1         0  ultralytics.nn.modules.conv.Concat           [1]                           \n",
            " 18                  -1  3   4592640  ultralytics.nn.modules.block.C2f             [768, 512, 3]                 \n",
            " 19                  -1  1   2360320  ultralytics.nn.modules.conv.Conv             [512, 512, 3, 2]              \n",
            " 20             [-1, 9]  1         0  ultralytics.nn.modules.conv.Concat           [1]                           \n",
            " 21                  -1  3   4723712  ultralytics.nn.modules.block.C2f             [1024, 512, 3]                \n",
            " 22        [15, 18, 21]  1   5587426  ultralytics.nn.modules.head.Detect           [6, [256, 512, 512]]          \n",
            "Model summary: 365 layers, 43634466 parameters, 43634450 gradients\n",
            "\n",
            "Transferred 589/595 items from pretrained weights\n",
            "\u001b[34m\u001b[1mTensorBoard: \u001b[0mStart with 'tensorboard --logdir /content/drive/MyDrive/yolo/training_output/det/darkcyan_4.5t/large/train', view at http://localhost:6006/\n",
            "Freezing layer 'model.22.dfl.conv.weight'\n",
            "\u001b[34m\u001b[1mAMP: \u001b[0mrunning Automatic Mixed Precision (AMP) checks with YOLOv8n...\n",
            "\u001b[34m\u001b[1mAMP: \u001b[0mchecks passed ✅\n",
            "\u001b[34m\u001b[1mtrain: \u001b[0mScanning /root/developer/darkcyan_data/temp/det_4.5t_training_data/labels/train.cache... 5612 images, 440 backgrounds, 0 corrupt: 100%|██████████| 5612/5612 [00:00<?, ?it/s]\n",
            "\u001b[34m\u001b[1malbumentations: \u001b[0mBlur(p=0.01, blur_limit=(3, 7)), MedianBlur(p=0.01, blur_limit=(3, 7)), ToGray(p=0.01), CLAHE(p=0.01, clip_limit=(1, 4.0), tile_grid_size=(8, 8))\n",
            "\u001b[34m\u001b[1mval: \u001b[0mScanning /root/developer/darkcyan_data/temp/det_4.5t_training_data/labels/test.cache... 1404 images, 92 backgrounds, 0 corrupt: 100%|██████████| 1404/1404 [00:00<?, ?it/s]\n",
            "\u001b[34m\u001b[1mval: \u001b[0mWARNING ⚠️ /root/developer/darkcyan_data/temp/det_4.5t_training_data/images/test/reolink4k-front_ad9f0ecf-822d-4bfe-9202-174255aaf7dc.jpg: 1 duplicate labels removed\n",
            "Plotting labels to /content/drive/MyDrive/yolo/training_output/det/darkcyan_4.5t/large/train/labels.jpg... \n",
            "\u001b[34m\u001b[1moptimizer:\u001b[0m SGD(lr=0.01, momentum=0.9) with parameter groups 97 weight(decay=0.0), 104 weight(decay=0.0005), 103 bias(decay=0.0)\n",
            "Image sizes 640 train, 640 val\n",
            "Using 8 dataloader workers\n",
            "Logging results to \u001b[1m/content/drive/MyDrive/yolo/training_output/det/darkcyan_4.5t/large/train\u001b[0m\n",
            "Starting training for 300 epochs...\n",
            "\n",
            "      Epoch    GPU_mem   box_loss   cls_loss   dfl_loss  Instances       Size\n",
            "      1/300      5.77G      1.503      3.963      1.409         32        640:   7%|▋         | 46/702 [00:09<01:49,  5.99it/s]"
          ]
        }
      ]
    }
  ],
  "metadata": {
    "accelerator": "GPU",
    "colab": {
      "gpuType": "V100",
      "machine_shape": "hm",
      "provenance": [],
      "include_colab_link": true
    },
    "kernelspec": {
      "display_name": "Python 3",
      "name": "python3"
    },
    "language_info": {
      "name": "python"
    }
  },
  "nbformat": 4,
  "nbformat_minor": 0
}