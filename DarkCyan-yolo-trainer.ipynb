{
  "nbformat": 4,
  "nbformat_minor": 0,
  "metadata": {
    "colab": {
      "provenance": [],
      "authorship_tag": "ABX9TyOdPbcuuuqx++YdJ6y5Nat5",
      "include_colab_link": true
    },
    "kernelspec": {
      "name": "python3",
      "display_name": "Python 3"
    },
    "language_info": {
      "name": "python"
    },
    "gpuClass": "standard",
    "accelerator": "GPU"
  },
  "cells": [
    {
      "cell_type": "markdown",
      "metadata": {
        "id": "view-in-github",
        "colab_type": "text"
      },
      "source": [
        "<a href=\"https://colab.research.google.com/github/harbour22/darkcyan-tools/blob/main/DarkCyan-yolo-trainer.ipynb\" target=\"_parent\"><img src=\"https://colab.research.google.com/assets/colab-badge.svg\" alt=\"Open In Colab\"/></a>"
      ]
    },
    {
      "cell_type": "code",
      "source": [
        "## General Imports\n",
        "from google.colab import drive # type: ignore\n",
        "from IPython.display import clear_output # type: ignore\n",
        "from pathlib import Path\n",
        "import json\n",
        "import shutil\n",
        "import os\n",
        "import time\n",
        "from datetime import datetime\n"
      ],
      "metadata": {
        "id": "qXvGrJ2QOYE7"
      },
      "execution_count": 1,
      "outputs": []
    },
    {
      "cell_type": "code",
      "source": [
        "!pip install --upgrade git+https://github.com/harbour22/darkcyan-tools.git\n",
        "clear_output(wait=False)"
      ],
      "metadata": {
        "id": "gEmIBZL4NHYI"
      },
      "execution_count": 2,
      "outputs": []
    },
    {
      "cell_type": "code",
      "source": [
        "!pip install ultralytics\n",
        "clear_output(wait=False)"
      ],
      "metadata": {
        "id": "PEMAl44x4c4N"
      },
      "execution_count": 3,
      "outputs": []
    },
    {
      "cell_type": "code",
      "source": [
        "drive.mount('/content/drive')"
      ],
      "metadata": {
        "id": "4k8D9ksgpxOu",
        "outputId": "ead54252-f2af-4f25-ae75-0c1acb8fa702",
        "colab": {
          "base_uri": "https://localhost:8080/"
        }
      },
      "execution_count": 4,
      "outputs": [
        {
          "output_type": "stream",
          "name": "stdout",
          "text": [
            "Mounted at /content/drive\n"
          ]
        }
      ]
    },
    {
      "cell_type": "code",
      "execution_count": 5,
      "metadata": {
        "id": "RR8OlPkNjS8U",
        "outputId": "f9c27867-6235-430a-f13f-923b1f0e8dde",
        "colab": {
          "base_uri": "https://localhost:8080/",
          "height": 97
        }
      },
      "outputs": [
        {
          "output_type": "display_data",
          "data": {
            "text/plain": [
              "Config file \u001b[35m/root/.darkcyan/\u001b[0m\u001b[95mconfig.json\u001b[0m does not exist, creating\n"
            ],
            "text/html": [
              "<pre style=\"white-space:pre;overflow-x:auto;line-height:normal;font-family:Menlo,'DejaVu Sans Mono',consolas,'Courier New',monospace\">Config file <span style=\"color: #800080; text-decoration-color: #800080\">/root/.darkcyan/</span><span style=\"color: #ff00ff; text-decoration-color: #ff00ff\">config.json</span> does not exist, creating\n",
              "</pre>\n"
            ]
          },
          "metadata": {}
        },
        {
          "output_type": "display_data",
          "data": {
            "text/plain": [
              "Config key local_data_repository not found, attempting defaults\n"
            ],
            "text/html": [
              "<pre style=\"white-space:pre;overflow-x:auto;line-height:normal;font-family:Menlo,'DejaVu Sans Mono',consolas,'Courier New',monospace\">Config key local_data_repository not found, attempting defaults\n",
              "</pre>\n"
            ]
          },
          "metadata": {}
        },
        {
          "output_type": "display_data",
          "data": {
            "text/plain": [
              "Config key scratch_dir not found, attempting defaults\n"
            ],
            "text/html": [
              "<pre style=\"white-space:pre;overflow-x:auto;line-height:normal;font-family:Menlo,'DejaVu Sans Mono',consolas,'Courier New',monospace\">Config key scratch_dir not found, attempting defaults\n",
              "</pre>\n"
            ]
          },
          "metadata": {}
        },
        {
          "output_type": "display_data",
          "data": {
            "text/plain": [
              "Config key data_prefix not found, attempting defaults\n"
            ],
            "text/html": [
              "<pre style=\"white-space:pre;overflow-x:auto;line-height:normal;font-family:Menlo,'DejaVu Sans Mono',consolas,'Courier New',monospace\">Config key data_prefix not found, attempting defaults\n",
              "</pre>\n"
            ]
          },
          "metadata": {}
        },
        {
          "output_type": "display_data",
          "data": {
            "text/plain": [
              "Config key temp_dir not found, attempting defaults\n"
            ],
            "text/html": [
              "<pre style=\"white-space:pre;overflow-x:auto;line-height:normal;font-family:Menlo,'DejaVu Sans Mono',consolas,'Courier New',monospace\">Config key temp_dir not found, attempting defaults\n",
              "</pre>\n"
            ]
          },
          "metadata": {}
        }
      ],
      "source": [
        "## App Imports\n",
        "from darkcyan.darkcyan_training_utils import get_training_zip_name\n",
        "from darkcyan.darkcyan_training_utils import save_config\n",
        "from darkcyan.constants import GOOGLEDRIVE_DATA_ROOT, \\\n",
        "                               DEFAULT_GOOGLEDRIVE_YOLO_DATA_DIR, \\\n",
        "                               DEFAULT_GOOGLEDRIVE_YOLO_CONFIG_DIR, \\\n",
        "                               DEFAULT_GOOGLEDRIVE_YOLO_TRAINING_OUTPUT_DIR, \\\n",
        "                               DEFAULT_YOLO_TRAINING_CONFIG, \\\n",
        "                               DEFAULT_GOOGLEDRIVE_YOLO_ENGINE_DIR, \\\n",
        "                               YOLOMODELMAP, \\\n",
        "                               YoloBaseModels, \\\n",
        "                               DataType, DEFAULT_DET_TRAINING_YAML\n",
        "\n",
        "from ultralytics import YOLO                               "
      ]
    },
    {
      "cell_type": "code",
      "source": [
        "## Load config\n",
        "config_file = Path(GOOGLEDRIVE_DATA_ROOT) / \\\n",
        "                   DEFAULT_GOOGLEDRIVE_YOLO_CONFIG_DIR / \\\n",
        "                   DEFAULT_YOLO_TRAINING_CONFIG\n",
        "\n",
        "with open(config_file, \"r\", encoding=\"utf-8\") as f:\n",
        "    config = json.load(f)\n",
        "config"
      ],
      "metadata": {
        "id": "3PmmV0QbC8pU",
        "outputId": "3d740351-98e8-4798-bfae-5d0018172274",
        "colab": {
          "base_uri": "https://localhost:8080/"
        }
      },
      "execution_count": 6,
      "outputs": [
        {
          "output_type": "execute_result",
          "data": {
            "text/plain": [
              "{'version': '4.1lb',\n",
              " 'type': 'cls',\n",
              " 'training_data': 'limetree_v4.1lb_cls.zip',\n",
              " 'basemodel': 'large',\n",
              " 'epochs': 300,\n",
              " 'imgsz': 224,\n",
              " 'batchsize': 128,\n",
              " 'config_creation_time': '2023-05-06 17:49:44',\n",
              " 'created_by': 'chris'}"
            ]
          },
          "metadata": {},
          "execution_count": 6
        }
      ]
    },
    {
      "cell_type": "code",
      "source": [
        "data_type = DataType[config['type']]\n",
        "model_size = YoloBaseModels[config['basemodel']]\n",
        "batch = config['batchsize']\n",
        "epochs = config['epochs']\n",
        "\n",
        "project_path = Path(GOOGLEDRIVE_DATA_ROOT) / \\\n",
        "               DEFAULT_GOOGLEDRIVE_YOLO_TRAINING_OUTPUT_DIR / \\\n",
        "               config['type'] / f\"darkcyan_{config['version']}\" / \\\n",
        "               model_size.name\n",
        "\n",
        "data = data_path = Path(f\"/content/{config['type']}_training_data\")\n",
        "imgsz = config['imgsz']\n",
        "\n",
        "if data_type == DataType.det:\n",
        "  data = data / DEFAULT_DET_TRAINING_YAML"
      ],
      "metadata": {
        "id": "g1ZvS8niQyGr"
      },
      "execution_count": 7,
      "outputs": []
    },
    {
      "cell_type": "code",
      "source": [
        "!rm -rf /content/drive/MyDrive/yolo/training_output/cls/darkcyan_4.1lb"
      ],
      "metadata": {
        "id": "c3l-dAH--8NH"
      },
      "execution_count": 11,
      "outputs": []
    },
    {
      "cell_type": "code",
      "source": [
        "zip_filename = Path(GOOGLEDRIVE_DATA_ROOT) / DEFAULT_GOOGLEDRIVE_YOLO_DATA_DIR / get_training_zip_name(config['version'], data_type, True)\n",
        "shutil.unpack_archive(zip_filename,data_path)"
      ],
      "metadata": {
        "id": "b3pLLzY1LMMf"
      },
      "execution_count": 8,
      "outputs": []
    },
    {
      "cell_type": "code",
      "source": [
        "last_run = project_path / 'train' / 'weights' / 'last.pt'\n",
        "if last_run.exists():\n",
        "  base_model = last_run\n",
        "  resume=True\n",
        "else: \n",
        "  base_model = YOLOMODELMAP[data_type][model_size]\n",
        "  resume=False\n",
        "        \n",
        "print(base_model)\n",
        "\n",
        "model = YOLO(base_model) # pass any model type\n",
        "start_time = time.time()\n",
        "model.train(epochs=300, resume=resume, project=project_path.as_posix(), batch=batch, data=data.as_posix(), imgsz=imgsz, exist_ok = True)\n",
        "end_time = time.time()"
      ],
      "metadata": {
        "id": "g8MSVvdkIF5G"
      },
      "execution_count": 12,
      "outputs": []
    },
    {
      "cell_type": "code",
      "source": [
        "engine_file_name = f\"yolov8_{config['version']}_{config['basemodel']}-{config['type']}.pt\"\n",
        "config_file_name = f\"yolov8_{config['version']}_{config['basemodel']}-{config['type']}.json\"\n",
        "training_output = project_path / 'train' / 'weights' / 'best.pt'\n",
        "engine_dir = Path(GOOGLEDRIVE_DATA_ROOT) / DEFAULT_GOOGLEDRIVE_YOLO_ENGINE_DIR\n",
        "engine_output = engine_dir / engine_file_name\n",
        "config_output = Path(GOOGLEDRIVE_DATA_ROOT) / DEFAULT_GOOGLEDRIVE_YOLO_ENGINE_DIR / config_file_name\n",
        "\n",
        "engine_dir.mkdir(parents=True)\n",
        "\n",
        "shutil.copy(training_output, engine_output)\n",
        "\n",
        "config['output_engine'] = engine_file_name\n",
        "config['colab_version'] = os.environ['COLAB_RELEASE_TAG']\n",
        "config['elapsed_training_time_mins'] = f'{(end_time - start_time)/60:.2f}'\n",
        "config[\"training_end_time\"] = datetime.now().strftime(\"%Y-%m-%d %H:%M:%S\")\n",
        "\n",
        "\n",
        "save_config(config, config_output)\n"
      ],
      "metadata": {
        "id": "vJX_oLe4nk0L"
      },
      "execution_count": 17,
      "outputs": []
    },
    {
      "cell_type": "code",
      "source": [
        "!rm -rf /content/drive/MyDrive/yolo/engines"
      ],
      "metadata": {
        "id": "b8zTPBaFcBtC"
      },
      "execution_count": 16,
      "outputs": []
    }
  ]
}