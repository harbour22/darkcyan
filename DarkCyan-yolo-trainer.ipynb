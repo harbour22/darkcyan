{
  "nbformat": 4,
  "nbformat_minor": 0,
  "metadata": {
    "colab": {
      "provenance": [],
      "authorship_tag": "ABX9TyMET7NpN+pPJkLoRe1vUjyf",
      "include_colab_link": true
    },
    "kernelspec": {
      "name": "python3",
      "display_name": "Python 3"
    },
    "language_info": {
      "name": "python"
    },
    "gpuClass": "standard",
    "accelerator": "GPU"
  },
  "cells": [
    {
      "cell_type": "markdown",
      "metadata": {
        "id": "view-in-github",
        "colab_type": "text"
      },
      "source": [
        "<a href=\"https://colab.research.google.com/github/harbour22/darkcyan-tools/blob/main/DarkCyan-yolo-trainer.ipynb\" target=\"_parent\"><img src=\"https://colab.research.google.com/assets/colab-badge.svg\" alt=\"Open In Colab\"/></a>"
      ]
    },
    {
      "cell_type": "code",
      "source": [
        "## General Imports\n",
        "from google.colab import drive # type: ignore\n",
        "from IPython.display import clear_output # type: ignore\n",
        "from pathlib import Path\n",
        "import json\n",
        "import shutil\n",
        "import os\n",
        "import time"
      ],
      "metadata": {
        "id": "qXvGrJ2QOYE7"
      },
      "execution_count": null,
      "outputs": []
    },
    {
      "cell_type": "code",
      "source": [
        "if 'COLAB_RELEASE_TAG' in os.environ:\n",
        "   COLAB_RELEASE_TAG = os.environ['COLAB_RELEASE_TAG']\n",
        "   colab = True"
      ],
      "metadata": {
        "id": "CEvWB8nrkJ1J"
      },
      "execution_count": null,
      "outputs": []
    },
    {
      "cell_type": "code",
      "source": [
        "!pip install --upgrade git+https://github.com/harbour22/darkcyan-tools.git\n",
        "clear_output(wait=False)"
      ],
      "metadata": {
        "id": "gEmIBZL4NHYI"
      },
      "execution_count": null,
      "outputs": []
    },
    {
      "cell_type": "code",
      "source": [
        "!pip install ultralytics\n",
        "clear_output(wait=False)"
      ],
      "metadata": {
        "id": "PEMAl44x4c4N"
      },
      "execution_count": null,
      "outputs": []
    },
    {
      "cell_type": "code",
      "source": [
        "drive.mount('/content/drive')"
      ],
      "metadata": {
        "id": "4k8D9ksgpxOu"
      },
      "execution_count": null,
      "outputs": []
    },
    {
      "cell_type": "code",
      "execution_count": null,
      "metadata": {
        "id": "RR8OlPkNjS8U",
        "colab": {
          "base_uri": "https://localhost:8080/",
          "height": 97
        },
        "outputId": "65c0a42f-6c6e-4498-d4f6-d3c4c99390af"
      },
      "outputs": [
        {
          "output_type": "display_data",
          "data": {
            "text/plain": [
              "Config file \u001b[35m/root/.darkcyan/\u001b[0m\u001b[95mconfig.json\u001b[0m does not exist, creating\n"
            ],
            "text/html": [
              "<pre style=\"white-space:pre;overflow-x:auto;line-height:normal;font-family:Menlo,'DejaVu Sans Mono',consolas,'Courier New',monospace\">Config file <span style=\"color: #800080; text-decoration-color: #800080\">/root/.darkcyan/</span><span style=\"color: #ff00ff; text-decoration-color: #ff00ff\">config.json</span> does not exist, creating\n",
              "</pre>\n"
            ]
          },
          "metadata": {}
        },
        {
          "output_type": "display_data",
          "data": {
            "text/plain": [
              "Config key local_data_repository not found, attempting defaults\n"
            ],
            "text/html": [
              "<pre style=\"white-space:pre;overflow-x:auto;line-height:normal;font-family:Menlo,'DejaVu Sans Mono',consolas,'Courier New',monospace\">Config key local_data_repository not found, attempting defaults\n",
              "</pre>\n"
            ]
          },
          "metadata": {}
        },
        {
          "output_type": "display_data",
          "data": {
            "text/plain": [
              "Config key scratch_dir not found, attempting defaults\n"
            ],
            "text/html": [
              "<pre style=\"white-space:pre;overflow-x:auto;line-height:normal;font-family:Menlo,'DejaVu Sans Mono',consolas,'Courier New',monospace\">Config key scratch_dir not found, attempting defaults\n",
              "</pre>\n"
            ]
          },
          "metadata": {}
        },
        {
          "output_type": "display_data",
          "data": {
            "text/plain": [
              "Config key data_prefix not found, attempting defaults\n"
            ],
            "text/html": [
              "<pre style=\"white-space:pre;overflow-x:auto;line-height:normal;font-family:Menlo,'DejaVu Sans Mono',consolas,'Courier New',monospace\">Config key data_prefix not found, attempting defaults\n",
              "</pre>\n"
            ]
          },
          "metadata": {}
        },
        {
          "output_type": "display_data",
          "data": {
            "text/plain": [
              "Config key temp_dir not found, attempting defaults\n"
            ],
            "text/html": [
              "<pre style=\"white-space:pre;overflow-x:auto;line-height:normal;font-family:Menlo,'DejaVu Sans Mono',consolas,'Courier New',monospace\">Config key temp_dir not found, attempting defaults\n",
              "</pre>\n"
            ]
          },
          "metadata": {}
        }
      ],
      "source": [
        "## App Imports\n",
        "from darkcyan.darkcyan_training_utils import get_training_zip_name\n",
        "from darkcyan.darkcyan_training_utils import save_config\n",
        "from darkcyan.constants import GOOGLEDRIVE_DATA_ROOT, \\\n",
        "                               DEFAULT_GOOGLEDRIVE_YOLO_DATA_DIR, \\\n",
        "                               DEFAULT_GOOGLEDRIVE_YOLO_CONFIG_DIR, \\\n",
        "                               DEFAULT_GOOGLEDRIVE_YOLO_TRAINING_OUTPUT_DIR, \\\n",
        "                               DEFAULT_YOLO_TRAINING_CONFIG, \\\n",
        "                               DEFAULT_GOOGLEDRIVE_YOLO_ENGINE_DIR, \\\n",
        "                               YOLOMODELMAP, \\\n",
        "                               YoloBaseModels, \\\n",
        "                               DataType\n",
        "\n",
        "from ultralytics import YOLO                               "
      ]
    },
    {
      "cell_type": "code",
      "source": [
        "## Load config\n",
        "config_file = Path(GOOGLEDRIVE_DATA_ROOT) / \\\n",
        "                   DEFAULT_GOOGLEDRIVE_YOLO_CONFIG_DIR / \\\n",
        "                   DEFAULT_YOLO_TRAINING_CONFIG\n",
        "\n",
        "with open(config_file, \"r\", encoding=\"utf-8\") as f:\n",
        "    config = json.load(f)\n",
        "config"
      ],
      "metadata": {
        "colab": {
          "base_uri": "https://localhost:8080/"
        },
        "id": "3PmmV0QbC8pU",
        "outputId": "40df246f-84fd-4d25-e87d-ab96142ed95d"
      },
      "execution_count": null,
      "outputs": [
        {
          "output_type": "execute_result",
          "data": {
            "text/plain": [
              "{'version': '4.1lb',\n",
              " 'type': 'cls',\n",
              " 'basemodel': 'large',\n",
              " 'epochs': 300,\n",
              " 'imgsz': 224,\n",
              " 'batchsize': 128,\n",
              " 'creation_time': '2023-05-03 22:26:44',\n",
              " 'created_by': 'chris'}"
            ]
          },
          "metadata": {},
          "execution_count": 10
        }
      ]
    },
    {
      "cell_type": "code",
      "source": [
        "data_type = DataType[config['type']]\n",
        "model_size = YoloBaseModels[config['basemodel']]\n",
        "batch = config['batchsize']\n",
        "epochs = config['epochs']\n",
        "\n",
        "project_path = Path(GOOGLEDRIVE_DATA_ROOT) / \\\n",
        "               DEFAULT_GOOGLEDRIVE_YOLO_TRAINING_OUTPUT_DIR / \\\n",
        "               config['type'] / f\"darkcyan_{config['version']}\" / \\\n",
        "               model_size.name\n",
        "\n",
        "data_path = f\"/content/{config['type']}_training_data\"\n",
        "imgsz = config['imgsz']"
      ],
      "metadata": {
        "id": "g1ZvS8niQyGr"
      },
      "execution_count": null,
      "outputs": []
    },
    {
      "cell_type": "code",
      "source": [
        "zip_filename = Path(GOOGLEDRIVE_DATA_ROOT) / DEFAULT_GOOGLEDRIVE_YOLO_DATA_DIR / get_training_zip_name(config['version'], data_type, True)\n",
        "shutil.unpack_archive(zip_filename,data_path)"
      ],
      "metadata": {
        "id": "b3pLLzY1LMMf"
      },
      "execution_count": null,
      "outputs": []
    },
    {
      "cell_type": "code",
      "source": [
        "last_run = project_path / 'train' / 'weights' / 'last.pt'\n",
        "if last_run.exists():\n",
        "  base_model = last_run\n",
        "  resume=True\n",
        "else: \n",
        "  base_model = YOLOMODELMAP[data_type][model_size]\n",
        "  resume=False\n",
        "\n",
        "print(base_model)\n",
        "\n",
        "model = YOLO(base_model) # pass any model type\n",
        "start_time = time.time()\n",
        "model.train(epochs=epochs, resume=resume, project=project_path, batch=batch, data=data_path, imgsz=imgsz, exist_ok = True)\n",
        "end_time = time.time()"
      ],
      "metadata": {
        "id": "g8MSVvdkIF5G"
      },
      "execution_count": null,
      "outputs": []
    },
    {
      "cell_type": "code",
      "source": [
        "# yolov8_v2.6.7.1l.pt\n",
        "engine_file_name = f'yolov8_{config['version']}_{config['basemodel'][0]}.pt'\n",
        "config_file_name = f'yolov8_{config['version']}_{config['basemodel'][0]}.json'\n",
        "training_output = project_path / 'train' / 'weights' / 'best.pt'\n",
        "engine_output = Path(GOOGLEDRIVE_DATA_ROOT) / DEFAULT_GOOGLEDRIVE_YOLO_ENGINE_DIR / engine_file_name\n",
        "config_output = Path(GOOGLEDRIVE_DATA_ROOT) / DEFAULT_GOOGLEDRIVE_YOLO_ENGINE_DIR / config_file_name\n",
        "\n",
        "shutil.copy(training_output, engine_output)\n",
        "\n",
        "config['output_engine'] = engine_file_name\n",
        "config['colab_version'] = os.environ['COLAB_RELEASE_TAG']\n",
        "config['training_time'] = f'{end_time - start_time:.2f}'\n",
        "\n",
        "save_config(config, config_output)\n"
      ],
      "metadata": {
        "id": "vJX_oLe4nk0L"
      },
      "execution_count": null,
      "outputs": []
    }
  ]
}