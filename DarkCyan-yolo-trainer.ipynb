{
  "cells": [
    {
      "cell_type": "markdown",
      "metadata": {
        "colab_type": "text",
        "id": "view-in-github"
      },
      "source": [
        "<a href=\"https://colab.research.google.com/github/harbour22/darkcyan/blob/main/DarkCyan-yolo-trainer.ipynb\" target=\"_parent\"><img src=\"https://colab.research.google.com/assets/colab-badge.svg\" alt=\"Open In Colab\"/></a>"
      ]
    },
    {
      "cell_type": "code",
      "execution_count": 2,
      "metadata": {
        "id": "qXvGrJ2QOYE7"
      },
      "outputs": [],
      "source": [
        "## General Imports\n",
        "from google.colab import drive # type: ignore\n",
        "from IPython.display import clear_output # type: ignore\n",
        "from pathlib import Path\n",
        "import json\n",
        "import shutil\n",
        "import os\n",
        "import time\n",
        "from datetime import datetime\n"
      ]
    },
    {
      "cell_type": "code",
      "execution_count": 3,
      "metadata": {
        "id": "gEmIBZL4NHYI"
      },
      "outputs": [],
      "source": [
        "!pip install --upgrade git+https://github.com/harbour22/darkcyan.git\n",
        "clear_output(wait=False)"
      ]
    },
    {
      "cell_type": "code",
      "execution_count": 4,
      "metadata": {
        "id": "PEMAl44x4c4N"
      },
      "outputs": [],
      "source": [
        "!pip install ultralytics\n",
        "clear_output(wait=False)"
      ]
    },
    {
      "cell_type": "code",
      "execution_count": 5,
      "metadata": {
        "colab": {
          "base_uri": "https://localhost:8080/"
        },
        "id": "4k8D9ksgpxOu",
        "outputId": "d9825ba8-0472-4da9-be6d-0488fab24238"
      },
      "outputs": [
        {
          "name": "stdout",
          "output_type": "stream",
          "text": [
            "Mounted at /content/drive\n"
          ]
        }
      ],
      "source": [
        "drive.mount('/content/drive')"
      ]
    },
    {
      "cell_type": "code",
      "execution_count": 8,
      "metadata": {
        "id": "RR8OlPkNjS8U"
      },
      "outputs": [],
      "source": [
        "## App Imports\n",
        "from darkcyan_tools.training_utils import get_training_zip_name\n",
        "from darkcyan_tools.training_utils import train\n",
        "from darkcyan.constants import GOOGLEDRIVE_DATA_ROOT, \\\n",
        "                               DEFAULT_GOOGLEDRIVE_YOLO_DATA_DIR, \\\n",
        "                               DEFAULT_GOOGLEDRIVE_YOLO_CONFIG_DIR, \\\n",
        "                               DEFAULT_GOOGLEDRIVE_YOLO_TRAINING_OUTPUT_DIR, \\\n",
        "                               DEFAULT_YOLO_TRAINING_CONFIG, \\\n",
        "                               DEFAULT_GOOGLEDRIVE_YOLO_ENGINE_DIR, \\\n",
        "                               YOLOMODELMAP, \\\n",
        "                               YoloBaseModels, \\\n",
        "                               DataType, DEFAULT_DET_TRAINING_YAML\n",
        "\n",
        "from ultralytics import YOLO"
      ]
    },
    {
      "cell_type": "code",
      "execution_count": null,
      "metadata": {
        "id": "vJX_oLe4nk0L"
      },
      "outputs": [],
      "source": [
        "engine_file_name = f\"yolov8_{config['version']}_{config['basemodel']}-{config['type']}.pt\"\n",
        "config_file_name = f\"yolov8_{config['version']}_{config['basemodel']}-{config['type']}.json\"\n",
        "training_output = project_path / 'train' / 'weights' / 'best.pt'\n",
        "engine_dir = Path(GOOGLEDRIVE_DATA_ROOT) / DEFAULT_GOOGLEDRIVE_YOLO_ENGINE_DIR\n",
        "engine_output = engine_dir / engine_file_name\n",
        "config_output = Path(GOOGLEDRIVE_DATA_ROOT) / DEFAULT_GOOGLEDRIVE_YOLO_ENGINE_DIR / config_file_name\n",
        "\n",
        "if(not Path(engine_dir).exists()):\n",
        "  engine_dir.mkdir(parents=True)\n",
        "\n",
        "shutil.copy(training_output, engine_output)\n",
        "\n",
        "config['output_engine'] = engine_file_name\n",
        "config['colab_version'] = os.environ['COLAB_RELEASE_TAG']\n",
        "config['elapsed_training_time_mins'] = f'{(end_time - start_time)/60:.2f}'\n",
        "config[\"training_end_time\"] = datetime.now().strftime(\"%Y-%m-%d %H:%M:%S\")\n",
        "\n",
        "\n",
        "save_config(config, config_output)\n"
      ]
    }
  ],
  "metadata": {
    "accelerator": "GPU",
    "colab": {
      "authorship_tag": "ABX9TyNeZxOtMwvQ/FptJTSd9rp6",
      "gpuType": "V100",
      "include_colab_link": true,
      "machine_shape": "hm",
      "provenance": []
    },
    "kernelspec": {
      "display_name": "Python 3",
      "name": "python3"
    },
    "language_info": {
      "name": "python"
    }
  },
  "nbformat": 4,
  "nbformat_minor": 0
}
